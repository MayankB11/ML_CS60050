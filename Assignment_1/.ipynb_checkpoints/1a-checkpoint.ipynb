{
 "cells": [
  {
   "cell_type": "code",
   "execution_count": 322,
   "metadata": {},
   "outputs": [],
   "source": [
    "# importing modules and reading the data set\n",
    "import pandas as pd, numpy as np, csv\n",
    "import matplotlib.pyplot as plt\n",
    "%matplotlib inline\n",
    "import math\n",
    "ds = pd.read_csv('kc_house_data.csv')"
   ]
  },
  {
   "cell_type": "code",
   "execution_count": 323,
   "metadata": {},
   "outputs": [],
   "source": [
    "# Normalizing the data set\n",
    "ds = (ds - ds.mean())/ds.max()"
   ]
  },
  {
   "cell_type": "code",
   "execution_count": 324,
   "metadata": {},
   "outputs": [],
   "source": [
    "# Dividing data set into training and testing data sets\n",
    "training_ds = ds[0:int(0.8*len(ds))].as_matrix()\n",
    "training_ds = np.insert(training_ds,0,1,axis=1)\n",
    "test_ds = ds[int(0.8*len(ds)):len(ds)].as_matrix()\n",
    "test_ds = np.insert(test_ds,0,1,axis=1)"
   ]
  },
  {
   "cell_type": "code",
   "execution_count": 325,
   "metadata": {},
   "outputs": [],
   "source": [
    "# Diving into features and output\n",
    "train_x = training_ds[:,:-1]\n",
    "train_y = training_ds[:,-1]\n",
    "test_x = test_ds[:,:-1]\n",
    "test_y = test_ds[:,-1]\n",
    "alpha = 0.05 # Learning rate\n",
    "n = train_x.shape[1] # No. of features\n",
    "theta = np.random.randn(n) # Initial value of thetas\n",
    "#lamda = 0.001 # Regularization Parameter"
   ]
  },
  {
   "cell_type": "code",
   "execution_count": 326,
   "metadata": {},
   "outputs": [],
   "source": [
    "# Cost function is mean squared error\n",
    "def cost_function(x,y,theta):\n",
    "    m = len(x)\n",
    "    error = np.sum((x.dot(theta)-y).dot(x.dot(theta)-y))\n",
    "    error= error/(2*m)\n",
    "    return error"
   ]
  },
  {
   "cell_type": "code",
   "execution_count": 327,
   "metadata": {},
   "outputs": [],
   "source": [
    "# Root mean squared error function\n",
    "def rmse(x,y,theta):\n",
    "    m = len(x)\n",
    "    error = np.sum((x.dot(theta)-y).dot(x.dot(theta)-y))\n",
    "    error = math.sqrt(error/m)\n",
    "    return error"
   ]
  },
  {
   "cell_type": "code",
   "execution_count": 328,
   "metadata": {},
   "outputs": [],
   "source": [
    "# Method for gradient descent without regularization\n",
    "def gradient_descent_wo_regularization(x,y,theta,alpha):\n",
    "    m = len(x)\n",
    "    itera = 0\n",
    "    loss = []\n",
    "    while True :\n",
    "        #print(\"Iteration : \",itera)\n",
    "        prev_cost = cost_function(x,y,theta)\n",
    "        theta = theta - ((alpha)*np.sum(((x.dot(theta)-y))*x.T,axis=1))/m\n",
    "        itera = itera+1\n",
    "        loss.append(prev_cost)\n",
    "        if(prev_cost - cost_function(x,y,theta) < 0.001):\n",
    "            print(\"iteration :\",itera)\n",
    "            break;\n",
    "        #print(\"Cost : \",cost_function(x,y,theta))\n",
    "    plt.plot(range(0, len(loss)), loss)\n",
    "    plt.xlabel(\"Iteration\")\n",
    "    plt.ylabel(\"Loss\")\n",
    "    return theta"
   ]
  },
  {
   "cell_type": "code",
   "execution_count": 329,
   "metadata": {},
   "outputs": [
    {
     "data": {
      "text/plain": [
       "array([ 0.        ,  0.11111111,  0.22222222,  0.33333333,  0.44444444,\n",
       "        0.55555556,  0.66666667,  0.77777778,  0.88888889,  1.        ])"
      ]
     },
     "execution_count": 329,
     "metadata": {},
     "output_type": "execute_result"
    }
   ],
   "source": [
    "reg_param_val = np.linspace(0,1,num=10)\n",
    "reg_rmse = []\n",
    "reg_param_val"
   ]
  },
  {
   "cell_type": "code",
   "execution_count": 330,
   "metadata": {},
   "outputs": [],
   "source": [
    "# Method for gradient descent with regularization\n",
    "def gradient_descent_w_regularization(x,y,theta,alpha,lamda):\n",
    "    m = len(x)\n",
    "    itera = 0\n",
    "    while True :\n",
    "        #print(\"Iteration : \",itera)\n",
    "        prev_cost = cost_function(x,y,theta)\n",
    "        temp = theta[0]\n",
    "        theta = theta*(1-lamda/m) - ((alpha)*np.sum(((x.dot(theta)-y))*x.T,axis=1))/m\n",
    "        itera = itera+1\n",
    "        theta[0] = temp + theta[0]*lamda/m\n",
    "        if(prev_cost - cost_function(x,y,theta) < 0.001):\n",
    "            #print(\"iteration :\",itera,\"\\t\",prev_cost,\"\\t\",cost_function(x,y,theta))\n",
    "            break;\n",
    "    return theta"
   ]
  },
  {
   "cell_type": "code",
   "execution_count": null,
   "metadata": {},
   "outputs": [],
   "source": []
  },
  {
   "cell_type": "code",
   "execution_count": 331,
   "metadata": {},
   "outputs": [
    {
     "name": "stdout",
     "output_type": "stream",
     "text": [
      "Reg Param :  0.0  , Thetas :  [ 0.5610846  -0.39982792 -2.67734432 -1.19423063 -0.40261742]\n",
      "Reg Param :  0.111111111111  , Thetas :  [ 0.56108801 -0.39982535 -2.6773271  -1.19422295 -0.40261483]\n",
      "Reg Param :  0.222222222222  , Thetas :  [ 0.56109142 -0.39982278 -2.67730987 -1.19421528 -0.40261223]\n",
      "Reg Param :  0.333333333333  , Thetas :  [ 0.56109483 -0.39982021 -2.67729264 -1.1942076  -0.40260963]\n",
      "Reg Param :  0.444444444444  , Thetas :  [ 0.56109824 -0.39981764 -2.67727541 -1.19419992 -0.40260703]\n",
      "Reg Param :  0.555555555556  , Thetas :  [ 0.56110165 -0.39981507 -2.67725818 -1.19419225 -0.40260444]\n",
      "Reg Param :  0.666666666667  , Thetas :  [ 0.56110506 -0.3998125  -2.67724095 -1.19418457 -0.40260184]\n",
      "Reg Param :  0.777777777778  , Thetas :  [ 0.56110847 -0.39980993 -2.67722372 -1.1941769  -0.40259924]\n",
      "Reg Param :  0.888888888889  , Thetas :  [ 0.56111188 -0.39980737 -2.67720649 -1.19416922 -0.40259665]\n",
      "Reg Param :  1.0  , Thetas :  [ 0.56111528 -0.3998048  -2.67718926 -1.19416154 -0.40259405]\n"
     ]
    },
    {
     "data": {
      "image/png": "[encoded data removed]",
      "text/plain": [
       "<matplotlib.figure.Figure at 0x7f4e0327d2e8>"
      ]
     },
     "metadata": {},
     "output_type": "display_data"
    }
   ],
   "source": [
    "if __name__ == '__main__':\n",
    "    init_theta = np.random.randn(n) # Initial values of theta\n",
    "    training_loss = []\n",
    "    for r in reg_param_val:\n",
    "        theta = init_theta # Initial value of thetas\n",
    "        theta = gradient_descent_w_regularization(train_x,train_y,theta,alpha,r)\n",
    "        reg_rmse.append(rmse(test_x,test_y,theta))\n",
    "        training_loss.append(cost_function(train_x,train_y,theta))\n",
    "        print(\"Reg Param : \",r,\" , Thetas : \",theta)\n",
    "    plt.plot(reg_param_val,reg_rmse)\n",
    "    plt.xlabel(\"Regularization Parameter\")\n",
    "    plt.ylabel(\"RMSE\")"
   ]
  },
  {
   "cell_type": "code",
   "execution_count": 332,
   "metadata": {},
   "outputs": [
    {
     "data": {
      "text/plain": [
       "Text(0,0.5,'Training Loss')"
      ]
     },
     "execution_count": 332,
     "metadata": {},
     "output_type": "execute_result"
    },
    {
     "data": {
      "image/png": "[encoded data removed]",
      "text/plain": [
       "<matplotlib.figure.Figure at 0x7f4e03274a20>"
      ]
     },
     "metadata": {},
     "output_type": "display_data"
    }
   ],
   "source": [
    "    plt.plot(reg_param_val,training_loss)\n",
    "    plt.xlabel(\"Regularization Parameter\")\n",
    "    plt.ylabel(\"Training Loss\")"
   ]
  },
  {
   "cell_type": "code",
   "execution_count": 333,
   "metadata": {},
   "outputs": [
    {
     "name": "stdout",
     "output_type": "stream",
     "text": [
      "iteration : 49\n",
      "RMSE :  1.6197092361700656\n"
     ]
    },
    {
     "data": {
      "image/png": "[encoded data removed]",
      "text/plain": [
       "<matplotlib.figure.Figure at 0x7f4e03274780>"
      ]
     },
     "metadata": {},
     "output_type": "display_data"
    }
   ],
   "source": [
    "    theta = np.random.randn(n)\n",
    "    gradient_descent_wo_regularization(train_x,train_y,theta,alpha)\n",
    "#     theta = gradient_descent_wo_regularization(train_x,train_y,theta,alpha)\n",
    "#     print(\"RMSE : \",rmse(test_x,test_y,theta))\n",
    "#     theta = np.random.randn(n) # Initial value of thetas\n",
    "#     theta = gradient_descent_w_regularization(train_x,train_y,theta,alpha,lamda)\n",
    "    print(\"RMSE : \",rmse(test_x,test_y,theta))"
   ]
  },
  {
   "cell_type": "code",
   "execution_count": null,
   "metadata": {},
   "outputs": [],
   "source": []
  }
 ],
 "metadata": {
  "kernelspec": {
   "display_name": "Python 3",
   "language": "python",
   "name": "python3"
  },
  "language_info": {
   "codemirror_mode": {
    "name": "ipython",
    "version": 3
   },
   "file_extension": ".py",
   "mimetype": "text/x-python",
   "name": "python",
   "nbconvert_exporter": "python",
   "pygments_lexer": "ipython3",
   "version": "3.5.2"
  }
 },
 "nbformat": 4,
 "nbformat_minor": 2
}
