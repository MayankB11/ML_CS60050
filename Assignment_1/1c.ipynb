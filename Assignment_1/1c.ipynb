{
 "cells": [
  {
   "cell_type": "code",
   "execution_count": 158,
   "metadata": {},
   "outputs": [],
   "source": [
    "# importing modules and reading the data set\n",
    "import pandas as pd, numpy as np, csv \n",
    "import math\n",
    "import matplotlib.pyplot as plt\n",
    "ds = pd.read_csv('kc_house_data.csv')"
   ]
  },
  {
   "cell_type": "code",
   "execution_count": 159,
   "metadata": {},
   "outputs": [],
   "source": [
    "# Normalizing the data set\n",
    "ds = (ds - ds.mean())/ds.max()"
   ]
  },
  {
   "cell_type": "code",
   "execution_count": 160,
   "metadata": {},
   "outputs": [],
   "source": [
    "# Dividing data set into training and testing data sets\n",
    "training_ds = ds[0:int(0.8*len(ds))].as_matrix()\n",
    "#training_ds = np.insert(training_ds,0,1,axis=1)\n",
    "test_ds = ds[int(0.8*len(ds)):len(ds)].as_matrix()\n",
    "#test_ds = np.insert(test_ds,0,1,axis=1)"
   ]
  },
  {
   "cell_type": "code",
   "execution_count": 161,
   "metadata": {},
   "outputs": [],
   "source": [
    "# Diving into features and output\n",
    "train1_x = training_ds[:,:-1] # Linear\n",
    "train2_x = np.hstack((np.power(train1_x,2),np.power(train1_x,3))) # Quadratic\n",
    "train3_x = np.hstack((train2_x,np.power(train1_x,3))) # Cubic\n",
    "train1_x = np.insert(train1_x,0,1,axis=1)\n",
    "train2_x = np.insert(train2_x,0,1,axis=1)\n",
    "train3_x = np.insert(train3_x,0,1,axis=1)\n",
    "train_y = training_ds[:,-1]\n",
    "test1_x = test_ds[:,:-1] #Linear\n",
    "test2_x = np.hstack((test1_x,np.power(test1_x,2))) #Quadratic\n",
    "test3_x = np.hstack((test2_x,np.power(test1_x,3))) # Cubic\n",
    "test1_x = np.insert(test1_x,0,1,axis=1)\n",
    "test2_x = np.insert(test2_x,0,1,axis=1)\n",
    "test3_x = np.insert(test3_x,0,1,axis=1)\n",
    "test_y = test_ds[:,-1]\n",
    "alpha = 0.05 # Learning rate\n",
    "theta1 = np.random.randn(train1_x.shape[1]) # Initial value of theta for linear\n",
    "theta2 = np.random.randn(train2_x.shape[1]) # Initial value of theta for quadratic\n",
    "theta3 = np.random.randn(train3_x.shape[1]) # Initial value of theta for cubic"
   ]
  },
  {
   "cell_type": "code",
   "execution_count": 162,
   "metadata": {},
   "outputs": [],
   "source": [
    "# Cost function is mean squared error\n",
    "def cost_function(x,y,theta):\n",
    "    m = len(x)\n",
    "    error = np.sum((x.dot(theta)-y).dot(x.dot(theta)-y))\n",
    "    error= error/(2*m)\n",
    "    return error"
   ]
  },
  {
   "cell_type": "code",
   "execution_count": 163,
   "metadata": {},
   "outputs": [],
   "source": [
    "# Root mean squared error function\n",
    "def rmse(x,y,theta):\n",
    "    m = len(x)\n",
    "    error = np.sum((x.dot(theta)-y).dot(x.dot(theta)-y))\n",
    "    error = math.sqrt(error/m)\n",
    "    return error"
   ]
  },
  {
   "cell_type": "code",
   "execution_count": 164,
   "metadata": {},
   "outputs": [],
   "source": [
    "# Method for gradient descent without regularization\n",
    "def gradient_descent_wo_regularization(x,y,theta,alpha):\n",
    "    m = len(x)\n",
    "    itera = 0\n",
    "    loss = []\n",
    "    while itera!=1000:\n",
    "        #print(\"Iteration : \",itera)\n",
    "        prev_cost = cost_function(x,y,theta)\n",
    "        theta = theta - ((alpha)*np.sum(((x.dot(theta)-y))*x.T,axis=1))/m\n",
    "        itera = itera+1\n",
    "        loss.append(prev_cost)\n",
    "#         if(prev_cost - cost_function(x,y,theta) < 0.001):\n",
    "#             print(\"iteration :\",itera)\n",
    "#             break;\n",
    "        #print(\"Cost : \",cost_function(x,y,theta))\n",
    "#     plt.plot(range(0, len(loss)), loss)\n",
    "#     plt.xlabel(\"Iteration\")\n",
    "#     plt.ylabel(\"Loss\")\n",
    "    return theta"
   ]
  },
  {
   "cell_type": "code",
   "execution_count": 165,
   "metadata": {},
   "outputs": [
    {
     "name": "stdout",
     "output_type": "stream",
     "text": [
      "Alpha :  0.0  Thetas(Linear) :  [ 1.  1.  1.  1.  1.]\n",
      "Alpha :  0.0  Thetas(Quadratic) :  [ 1.  1.  1.  1.  1.  1.  1.  1.  1.]\n",
      "Alpha :  0.0  Thetas(Cubic) :  [ 1.  1.  1.  1.  1.  1.  1.  1.  1.  1.  1.  1.  1.]\n",
      "Alpha :  0.0111111111111  Thetas(Linear) :  [ 0.01797919  0.99027491  0.75013572  0.97289086  0.85434827]\n",
      "Alpha :  0.0111111111111  Thetas(Quadratic) :  [-0.03370015  0.99715572  0.96981639  0.99831947  0.9894495   0.99805726\n",
      "  0.99554273  0.99924712  0.99945893]\n",
      "Alpha :  0.0111111111111  Thetas(Cubic) :  [-0.03520045  0.99615294  0.96701686  0.99791527  0.98827226  0.99724502\n",
      "  0.99410121  0.99890795  0.9987449   0.99724502  0.99410121  0.99890795\n",
      "  0.9987449 ]\n",
      "Alpha :  0.0222222222222  Thetas(Linear) :  [ 0.01355606  0.98155933  0.54840738  0.95016849  0.73413147]\n",
      "Alpha :  0.0222222222222  Thetas(Quadratic) :  [-0.03352836  0.99497235  0.96195146  0.99747149  0.98824139  0.99633633\n",
      "  0.99215832  0.99854945  0.99923471]\n",
      "Alpha :  0.0222222222222  Thetas(Cubic) :  [-0.03495085  0.99297259  0.95641974  0.99666522  0.98590762  0.99471593\n",
      "  0.98929306  0.9978718   0.99781035  0.99471593  0.98929306  0.9978718\n",
      "  0.99781035]\n",
      "Alpha :  0.0333333333333  Thetas(Linear) :  [ 0.01020334  0.97337028  0.39656252  0.93096343  0.63855517]\n",
      "Alpha :  0.0333333333333  Thetas(Quadratic) :  [-0.0333434   0.99279373  0.95414194  0.99662432  0.98703911  0.994619\n",
      "  0.98879937  0.99785233  0.99901332]\n",
      "Alpha :  0.0333333333333  Thetas(Cubic) :  [-0.03468889  0.98980174  0.94591078  0.99541683  0.98355519  0.99219417\n",
      "  0.98452627  0.9968368   0.9968818   0.99219417  0.98452627  0.9968368\n",
      "  0.9968818 ]\n",
      "Alpha :  0.0444444444444  Thetas(Linear) :  [ 0.00765588  0.96560207  0.282626    0.91449815  0.56203391]\n",
      "Alpha :  0.0444444444444  Thetas(Quadratic) :  [-0.0331597   0.99061984  0.94638714  0.99577794  0.98584249  0.99290525\n",
      "  0.9854657   0.99715575  0.99879475]\n",
      "Alpha :  0.0444444444444  Thetas(Cubic) :  [-0.03442902  0.98664035  0.93548893  0.99417009  0.98121476  0.98967972\n",
      "  0.97980046  0.99580297  0.99595921  0.98967972  0.97980046  0.99580297\n",
      "  0.99595921]\n",
      "Alpha :  0.0555555555556  Thetas(Linear) :  [ 0.00572191  0.95817342  0.19747303  0.90017634  0.50029064]\n",
      "Alpha :  0.0555555555556  Thetas(Quadratic) :  [-0.03297725  0.98845068  0.93868666  0.99493235  0.9846515   0.9911951\n",
      "  0.98215711  0.99645971  0.99857897]\n",
      "Alpha :  0.0555555555556  Thetas(Cubic) :  [-0.0341712   0.98348841  0.92515347  0.99292499  0.97888626  0.98717254\n",
      "  0.97511531  0.99477029  0.99504254  0.98717254  0.97511531  0.99477029\n",
      "  0.99504254]\n",
      "Alpha :  0.0666666666667  Thetas(Linear) :  [ 0.00425523  0.95102166  0.13415281  0.88754011  0.45004758]\n",
      "Alpha :  0.0666666666667  Thetas(Quadratic) :  [-0.03279605  0.98628623  0.93104014  0.99408756  0.98346612  0.98948851\n",
      "  0.97887343  0.99576423  0.99836598]\n",
      "Alpha :  0.0666666666667  Thetas(Cubic) :  [-0.03391544  0.98034587  0.91490368  0.99168153  0.97656961  0.98467263\n",
      "  0.97047046  0.99373877  0.99413175  0.98467263  0.97047046  0.99373877\n",
      "  0.99413175]\n",
      "Alpha :  0.0777777777778  Thetas(Linear) :  [ 0.00314436  0.94409839  0.08737226  0.8762374   0.40879017]\n",
      "Alpha :  0.0777777777778  Thetas(Quadratic) :  [-0.03261608  0.98412649  0.92344717  0.99324355  0.9822863   0.98778549\n",
      "  0.9756145   0.99506929  0.99815574]\n",
      "Alpha :  0.0777777777778  Thetas(Cubic) :  [-0.03366171  0.9772127   0.90473883  0.9904397   0.97426475  0.98217995\n",
      "  0.96586559  0.99270841  0.99322681  0.98217995  0.96586559  0.99270841\n",
      "  0.99322681]\n",
      "Alpha :  0.0888888888889  Thetas(Linear) :  [ 0.00230436  0.93736612  0.05310222  0.865997    0.37458697]\n",
      "Alpha :  0.0888888888889  Thetas(Quadratic) :  [-0.03243733  0.98197143  0.91590739  0.99240033  0.98111202  0.98608604\n",
      "  0.97238012  0.99437489  0.99794825]\n",
      "Alpha :  0.0888888888889  Thetas(Cubic) :  [-0.03340999  0.97408889  0.89465823  0.9891995   0.97197161  0.97969449\n",
      "  0.96130036  0.99167919  0.99232767  0.97969449  0.96130036  0.99167919\n",
      "  0.99232767]\n",
      "Alpha :  0.1  Thetas(Linear) :  [ 0.00167046  0.93079572  0.02827702  0.85660957  0.34595212]\n",
      "Alpha :  0.1  Thetas(Quadratic) :  [-0.0322598   0.97982105  0.90842042  0.9915579   0.97994325  0.98439013\n",
      "  0.96917013  0.99368104  0.99774349]\n",
      "Alpha :  0.1  Thetas(Cubic) :  [-0.03316027  0.9709744   0.88466117  0.98796093  0.96969011  0.97721623\n",
      "  0.95677444  0.99065113  0.9914343   0.97721623  0.95677444  0.99065113\n",
      "  0.9914343 ]\n",
      "RMSE Linear:  0.054529679687960735\n",
      "RMSE Quadratic:  0.25503363685054387\n",
      "RMSE Cubic:  0.26857669195938977\n"
     ]
    },
    {
     "data": {
      "image/png": "[encoded data removed]",
      "text/plain": [
       "<matplotlib.figure.Figure at 0x7fa890e9b7b8>"
      ]
     },
     "metadata": {},
     "output_type": "display_data"
    }
   ],
   "source": [
    "if __name__ == '__main__':\n",
    "    \n",
    "    alp = np.linspace(0,0.1,num=10)\n",
    "    rmse_l = []\n",
    "    rmse_q = []\n",
    "    rmse_c = []\n",
    "    for alpha_ in alp:\n",
    "        theta1 = np.ones(train1_x.shape[1]) # Initial value of theta for linear\n",
    "        theta2 = np.ones(train2_x.shape[1]) # Initial value of theta for quadratic\n",
    "        theta3 = np.ones(train3_x.shape[1]) # Initial value of theta for cubic\n",
    "        # Linear in Blue\n",
    "        theta1 = gradient_descent_wo_regularization(train1_x,train_y,theta1,alpha_)\n",
    "        \n",
    "        #Quadratic in Orange\n",
    "        theta2 = gradient_descent_wo_regularization(train2_x,train_y,theta2,alpha_)\n",
    "\n",
    "        #Cubic in Green\n",
    "        theta3 = gradient_descent_wo_regularization(train3_x,train_y,theta3,alpha_)\n",
    "        rmse_l.append(rmse(test1_x,test_y,theta1))\n",
    "        rmse_q.append(rmse(test2_x,test_y,theta2))\n",
    "        rmse_c.append(rmse(test3_x,test_y,theta3))\n",
    "        \n",
    "        print(\"Alpha : \",alpha_,\" Thetas(Linear) : \",theta1)\n",
    "        print(\"Alpha : \",alpha_,\" Thetas(Quadratic) : \",theta2)\n",
    "        print(\"Alpha : \",alpha_,\" Thetas(Cubic) : \",theta3)\n",
    "        \n",
    "    print(\"RMSE Linear: \",rmse(test1_x,test_y,theta1))\n",
    "    print(\"RMSE Quadratic: \",rmse(test2_x,test_y,theta2))\n",
    "    print(\"RMSE Cubic: \",rmse(test3_x,test_y,theta3)) \n",
    "\n",
    "    plt.plot(alp,rmse_l)\n",
    "    plt.plot(alp,rmse_q)\n",
    "    plt.plot(alp,rmse_c)\n",
    "    plt.xlabel(\"Learning Parameter\")\n",
    "    plt.ylabel(\"RMSE\")"
   ]
  },
  {
   "cell_type": "code",
   "execution_count": null,
   "metadata": {},
   "outputs": [],
   "source": []
  }
 ],
 "metadata": {
  "kernelspec": {
   "display_name": "Python 3",
   "language": "python",
   "name": "python3"
  },
  "language_info": {
   "codemirror_mode": {
    "name": "ipython",
    "version": 3
   },
   "file_extension": ".py",
   "mimetype": "text/x-python",
   "name": "python",
   "nbconvert_exporter": "python",
   "pygments_lexer": "ipython3",
   "version": "3.5.2"
  }
 },
 "nbformat": 4,
 "nbformat_minor": 2
}
