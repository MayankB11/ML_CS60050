{
 "cells": [
  {
   "cell_type": "code",
   "execution_count": 1,
   "metadata": {},
   "outputs": [],
   "source": [
    "# importing modules and reading the data set\n",
    "import pandas as pd, numpy as np, csv \n",
    "import math\n",
    "ds = pd.read_csv('kc_house_data.csv')"
   ]
  },
  {
   "cell_type": "code",
   "execution_count": 2,
   "metadata": {},
   "outputs": [],
   "source": [
    "# Normalizing the data set\n",
    "ds = (ds - ds.mean())/ds.max()"
   ]
  },
  {
   "cell_type": "code",
   "execution_count": 3,
   "metadata": {},
   "outputs": [],
   "source": [
    "# Dividing data set into training and testing data sets\n",
    "training_ds = ds[0:int(0.8*len(ds))].as_matrix()\n",
    "#training_ds = np.insert(training_ds,0,1,axis=1)\n",
    "test_ds = ds[int(0.8*len(ds)):len(ds)].as_matrix()\n",
    "#test_ds = np.insert(test_ds,0,1,axis=1)"
   ]
  },
  {
   "cell_type": "code",
   "execution_count": 4,
   "metadata": {},
   "outputs": [],
   "source": [
    "# Diving into features and output\n",
    "train1_x = training_ds[:,:-1] # Linear\n",
    "train2_x = np.hstack((np.power(train1_x,2),np.power(train1_x,3))) # Quadratic\n",
    "train3_x = np.hstack((train2_x,np.power(train1_x,3))) # Cubic\n",
    "train1_x = np.insert(train1_x,0,1,axis=1)\n",
    "train2_x = np.insert(train2_x,0,1,axis=1)\n",
    "train3_x = np.insert(train3_x,0,1,axis=1)\n",
    "train_y = training_ds[:,-1]\n",
    "test1_x = test_ds[:,:-1] #Linear\n",
    "test2_x = np.hstack((test1_x,np.power(test1_x,2))) #Quadratic\n",
    "test3_x = np.hstack((test2_x,np.power(test1_x,3))) # Cubic\n",
    "test1_x = np.insert(test1_x,0,1,axis=1)\n",
    "test2_x = np.insert(test2_x,0,1,axis=1)\n",
    "test3_x = np.insert(test3_x,0,1,axis=1)\n",
    "test_y = test_ds[:,-1]\n",
    "alpha = 0.05 # Learning rate\n",
    "theta1 = np.random.randn(train1_x.shape[1]) # Initial value of theta for linear\n",
    "theta2 = np.random.randn(train2_x.shape[1]) # Initial value of theta for quadratic\n",
    "theta3 = np.random.randn(train3_x.shape[1]) # Initial value of theta for cubic"
   ]
  },
  {
   "cell_type": "code",
   "execution_count": 5,
   "metadata": {},
   "outputs": [],
   "source": [
    "# Cost function is mean squared error\n",
    "def cost_function(x,y,theta):\n",
    "    m = len(x)\n",
    "    error = np.sum((x.dot(theta)-y).dot(x.dot(theta)-y))\n",
    "    error= error/(2*m)\n",
    "    return error"
   ]
  },
  {
   "cell_type": "code",
   "execution_count": 6,
   "metadata": {},
   "outputs": [],
   "source": [
    "# Root mean squared error function\n",
    "def rmse(x,y,theta):\n",
    "    m = len(x)\n",
    "    error = np.sum((x.dot(theta)-y).dot(x.dot(theta)-y))\n",
    "    error = math.sqrt(error/m)\n",
    "    return error"
   ]
  },
  {
   "cell_type": "code",
   "execution_count": 7,
   "metadata": {},
   "outputs": [],
   "source": [
    "# Method for gradient descent without regularization\n",
    "def gradient_descent_wo_regularization(x,y,theta,alpha):\n",
    "    m = len(x)\n",
    "    itera = 0\n",
    "    while itera != 1000 :\n",
    "        #print(\"Iteration : \",itera)\n",
    "        theta = theta - ((alpha)*np.sum(((x.dot(theta)-y))*x.T,axis=1))/m\n",
    "        itera = itera+1\n",
    "        #print(\"Cost : \",cost_function(x,y,theta))\n",
    "    return theta"
   ]
  },
  {
   "cell_type": "code",
   "execution_count": 8,
   "metadata": {},
   "outputs": [
    {
     "ename": "NameError",
     "evalue": "name 'train1_y' is not defined",
     "output_type": "error",
     "traceback": [
      "\u001b[0;31m---------------------------------------------------------------------------\u001b[0m",
      "\u001b[0;31mNameError\u001b[0m                                 Traceback (most recent call last)",
      "\u001b[0;32m<ipython-input-8-ceb59b84ebe7>\u001b[0m in \u001b[0;36m<module>\u001b[0;34m()\u001b[0m\n\u001b[1;32m      1\u001b[0m \u001b[0;32mif\u001b[0m \u001b[0m__name__\u001b[0m \u001b[0;34m==\u001b[0m \u001b[0;34m'__main__'\u001b[0m\u001b[0;34m:\u001b[0m\u001b[0;34m\u001b[0m\u001b[0m\n\u001b[0;32m----> 2\u001b[0;31m     \u001b[0mtheta1\u001b[0m \u001b[0;34m=\u001b[0m \u001b[0mgradient_descent_wo_regularization\u001b[0m\u001b[0;34m(\u001b[0m\u001b[0mtrain1_x\u001b[0m\u001b[0;34m,\u001b[0m\u001b[0mtrain1_y\u001b[0m\u001b[0;34m,\u001b[0m\u001b[0mtheta1\u001b[0m\u001b[0;34m,\u001b[0m\u001b[0malpha\u001b[0m\u001b[0;34m)\u001b[0m\u001b[0;34m\u001b[0m\u001b[0m\n\u001b[0m\u001b[1;32m      3\u001b[0m     \u001b[0mprint\u001b[0m\u001b[0;34m(\u001b[0m\u001b[0;34m\"RMSE : \"\u001b[0m\u001b[0;34m,\u001b[0m\u001b[0mrmse\u001b[0m\u001b[0;34m(\u001b[0m\u001b[0mtest1_x\u001b[0m\u001b[0;34m,\u001b[0m\u001b[0mtest1_y\u001b[0m\u001b[0;34m,\u001b[0m\u001b[0mtheta1\u001b[0m\u001b[0;34m)\u001b[0m\u001b[0;34m)\u001b[0m\u001b[0;34m\u001b[0m\u001b[0m\n\u001b[1;32m      4\u001b[0m     \u001b[0mtheta2\u001b[0m \u001b[0;34m=\u001b[0m \u001b[0mgradient_descent_wo_regularization\u001b[0m\u001b[0;34m(\u001b[0m\u001b[0mtrain2_x\u001b[0m\u001b[0;34m,\u001b[0m\u001b[0mtrain2_y\u001b[0m\u001b[0;34m,\u001b[0m\u001b[0mtheta2\u001b[0m\u001b[0;34m,\u001b[0m\u001b[0malpha\u001b[0m\u001b[0;34m)\u001b[0m\u001b[0;34m\u001b[0m\u001b[0m\n\u001b[1;32m      5\u001b[0m     \u001b[0mprint\u001b[0m\u001b[0;34m(\u001b[0m\u001b[0;34m\"RMSE : \"\u001b[0m\u001b[0;34m,\u001b[0m\u001b[0mrmse\u001b[0m\u001b[0;34m(\u001b[0m\u001b[0mtest2_x\u001b[0m\u001b[0;34m,\u001b[0m\u001b[0mtest2_y\u001b[0m\u001b[0;34m,\u001b[0m\u001b[0mtheta2\u001b[0m\u001b[0;34m)\u001b[0m\u001b[0;34m)\u001b[0m\u001b[0;34m\u001b[0m\u001b[0m\n",
      "\u001b[0;31mNameError\u001b[0m: name 'train1_y' is not defined"
     ]
    }
   ],
   "source": [
    "if __name__ == '__main__':\n",
    "    theta1 = gradient_descent_wo_regularization(train1_x,train1_y,theta1,alpha)\n",
    "    print(\"RMSE : \",rmse(test1_x,test1_y,theta1))\n",
    "    theta2 = gradient_descent_wo_regularization(train2_x,train2_y,theta2,alpha)\n",
    "    print(\"RMSE : \",rmse(test2_x,test2_y,theta2))\n",
    "    theta3 = gradient_descent_wo_regularization(train3_x,train3_y,theta3,alpha)\n",
    "    print(\"RMSE : \",rmse(test3_x,test3_y,theta3))\n"
   ]
  }
 ],
 "metadata": {
  "kernelspec": {
   "display_name": "Python 3",
   "language": "python",
   "name": "python3"
  },
  "language_info": {
   "codemirror_mode": {
    "name": "ipython",
    "version": 3
   },
   "file_extension": ".py",
   "mimetype": "text/x-python",
   "name": "python",
   "nbconvert_exporter": "python",
   "pygments_lexer": "ipython3",
   "version": "3.5.2"
  }
 },
 "nbformat": 4,
 "nbformat_minor": 2
}
