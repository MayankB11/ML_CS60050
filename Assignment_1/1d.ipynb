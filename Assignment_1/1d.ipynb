{
 "cells": [
  {
   "cell_type": "code",
   "execution_count": 716,
   "metadata": {},
   "outputs": [],
   "source": [
    "# importing modules and reading the data set\n",
    "import pandas as pd, numpy as np, csv \n",
    "import math\n",
    "import matplotlib.pyplot as plt\n",
    "ds = pd.read_csv('kc_house_data.csv')"
   ]
  },
  {
   "cell_type": "code",
   "execution_count": 717,
   "metadata": {},
   "outputs": [],
   "source": [
    "# Normalizing the data set\n",
    "ds = (ds - ds.mean())/ds.max()"
   ]
  },
  {
   "cell_type": "code",
   "execution_count": 718,
   "metadata": {},
   "outputs": [],
   "source": [
    "# Dividing data set into training and testing data sets\n",
    "training_ds = ds[0:int(0.8*len(ds))].as_matrix()\n",
    "training_ds = np.insert(training_ds,0,1,axis=1)\n",
    "test_ds = ds[int(0.8*len(ds)):len(ds)].as_matrix()\n",
    "test_ds = np.insert(test_ds,0,1,axis=1)"
   ]
  },
  {
   "cell_type": "code",
   "execution_count": 719,
   "metadata": {},
   "outputs": [],
   "source": [
    "# Diving into features and output\n",
    "train_x = training_ds[:,:-1]\n",
    "train_y = training_ds[:,-1]\n",
    "test_x = test_ds[:,:-1]\n",
    "test_y = test_ds[:,-1]\n",
    "alpha = 0.05 # Learning rate\n",
    "n = train_x.shape[1] # No. of features\n",
    "theta = np.random.randn(n) # Initial value of thetas\n",
    "lamda = 0.001 # Regularization Parameter"
   ]
  },
  {
   "cell_type": "code",
   "execution_count": 720,
   "metadata": {},
   "outputs": [],
   "source": [
    "# Cost function is mean squared error\n",
    "def mean_squared_error(x,y,theta):\n",
    "    m = len(x)\n",
    "    error = np.sum((x.dot(theta)-y).dot(x.dot(theta)-y))\n",
    "    error= error/(2*m)\n",
    "    return error"
   ]
  },
  {
   "cell_type": "code",
   "execution_count": 721,
   "metadata": {},
   "outputs": [],
   "source": [
    "# Cost function is mean absolute error\n",
    "def mean_absolute_error(x,y,theta):\n",
    "    m = len(x)\n",
    "    error = np.sum(np.absolute(x.dot(theta)-y))\n",
    "    error= error/(2*m)\n",
    "    return error"
   ]
  },
  {
   "cell_type": "code",
   "execution_count": 722,
   "metadata": {},
   "outputs": [],
   "source": [
    "# Cost function is mean cubed error\n",
    "def mean_cubed_error(x,y,theta):\n",
    "    m = len(x)\n",
    "    error = np.sum(np.power(x.dot(theta)-y,3))\n",
    "    error= error/(2*m)\n",
    "    return error"
   ]
  },
  {
   "cell_type": "code",
   "execution_count": 723,
   "metadata": {},
   "outputs": [],
   "source": [
    "# Root mean squared error function\n",
    "def rmse(x,y,theta):\n",
    "    m = len(x)\n",
    "    error = np.sum((x.dot(theta)-y).dot(x.dot(theta)-y))\n",
    "    error = math.sqrt(error/m)\n",
    "    return error"
   ]
  },
  {
   "cell_type": "code",
   "execution_count": 724,
   "metadata": {},
   "outputs": [],
   "source": [
    "# Method for gradient descent with mean_squared_error\n",
    "def gradient_descent_mse(x,y,theta,alpha):\n",
    "    m = len(x)\n",
    "    itera = 0\n",
    "    loss = []\n",
    "    while True :\n",
    "        #print(\"Iteration : \",itera)\n",
    "        itera = itera+1\n",
    "        prev_cost = mean_squared_error(x,y,theta)\n",
    "        loss.append(prev_cost)\n",
    "        theta = theta - ((alpha)*np.sum(((x.dot(theta)-y))*x.T,axis=1))/m\n",
    "        if(prev_cost - mean_squared_error(x,y,theta)<0.0005):\n",
    "#             print(\"Iteration : \",itera)\n",
    "            break\n",
    "        #itera = itera+1\n",
    "        #print(\"Cost : \",mean_squared_error(x,y,theta))\n",
    "#     plt.plot(range(0, len(loss)), loss)\n",
    "#     plt.xlabel(\"Iteration\")\n",
    "#     plt.ylabel(\"Loss\")\n",
    "    return theta"
   ]
  },
  {
   "cell_type": "code",
   "execution_count": 725,
   "metadata": {},
   "outputs": [],
   "source": [
    "# Method for gradient descent with mean_absolute_error\n",
    "def gradient_descent_mae(x,y,theta,alpha):\n",
    "    m = len(x)\n",
    "    itera = 0\n",
    "    loss = []\n",
    "    while True :\n",
    "        #print(\"Iteration : \",itera)\n",
    "        prev_cost = mean_absolute_error(x,y,theta)\n",
    "        temp = (x.dot(theta)-y)\n",
    "        #print(temp.shape)\n",
    "        temp1 = x.copy()\n",
    "        #print(temp1.shape)\n",
    "        temp1[temp < 0] *=-1 \n",
    "        temp1 = temp1.T\n",
    "        theta = theta - ((alpha)*np.sum(temp1,axis=1))/m\n",
    "        loss.append(prev_cost)\n",
    "        itera = itera+1\n",
    "        if (prev_cost - mean_absolute_error(x,y,theta)<0.0005):\n",
    "#             print(\" Iteration : \",itera)\n",
    "            break;\n",
    "        #print(\"Cost : \",mean_absolute_error(x,y,theta))\n",
    "#     plt.plot(range(0, len(loss)), loss)\n",
    "#     plt.xlabel(\"Iteration\")\n",
    "#     plt.ylabel(\"Loss\")\n",
    "    return theta"
   ]
  },
  {
   "cell_type": "code",
   "execution_count": 726,
   "metadata": {},
   "outputs": [],
   "source": [
    "# Method for gradient descent with mean_cubed_error\n",
    "def gradient_descent_mce(x,y,theta,alpha):\n",
    "    m = len(x)\n",
    "    itera = 0\n",
    "    loss = []\n",
    "    while True :\n",
    "        #print(\"Iteration : \",itera)\n",
    "        prev_cost = mean_cubed_error(x,y,theta)\n",
    "        theta = theta - (1.5*(alpha)*np.sum((np.square((x.dot(theta)-y)))*x.T,axis=1))/m\n",
    "        loss.append(prev_cost)\n",
    "        itera = itera+1\n",
    "        if(prev_cost-mean_cubed_error(x,y,theta)<0.0005):\n",
    "#             print(\" Iteration : \",itera )\n",
    "            break;\n",
    "        #print(\"Cost : \",mean_cubed_error(x,y,theta))\n",
    "#     plt.plot(range(0, len(loss)), loss)\n",
    "#     plt.xlabel(\"Iteration\")\n",
    "#     plt.ylabel(\"Loss\")\n",
    "    return theta"
   ]
  },
  {
   "cell_type": "code",
   "execution_count": 727,
   "metadata": {},
   "outputs": [],
   "source": [
    "# Method for gradient descent with regularization\n",
    "def gradient_descent_w_regularization(x,y,theta,alpha,lamda):\n",
    "    m = len(x)\n",
    "    itera = 0\n",
    "    while itera != 10000 :\n",
    "        print(\"Iteration : \",itera)\n",
    "        theta = theta*(1-lamda/m) - ((alpha)*np.sum(((x.dot(theta)-y))*x.T,axis=1))/m\n",
    "        itera = itera+1\n",
    "        print(\"Cost : \",cost_function(x,y,theta))\n",
    "    return theta"
   ]
  },
  {
   "cell_type": "code",
   "execution_count": 728,
   "metadata": {},
   "outputs": [
    {
     "name": "stdout",
     "output_type": "stream",
     "text": [
      "Learining Rate(MAE) :  0.0  , Thetas :  [ 1.  1.  1.  1.  1.]\n",
      "Learining Rate(MSE) :  0.0  , Thetas :  [ 1.  1.  1.  1.  1.]\n",
      "Learining Rate(MCE) :  0.0  , Thetas :  [ 1.  1.  1.  1.  1.]\n",
      "Learining Rate(MAE) :  0.0111111111111  , Thetas :  [ 0.14621168  0.99921675  0.99981346  0.99724858  0.99286725]\n",
      "Learining Rate(MSE) :  0.0111111111111  , Thetas :  [ 0.22930894  0.99837791  0.97197502  0.99600929  0.98173921]\n",
      "Learining Rate(MCE) :  0.0111111111111  , Thetas :  [ 0.33432989  0.99752972  0.95401444  0.99483235  0.97313584]\n",
      "Learining Rate(MAE) :  0.0222222222222  , Thetas :  [ 0.12487372  0.9989869   0.99221498  0.99619029  0.98779759]\n",
      "Learining Rate(MSE) :  0.0222222222222  , Thetas :  [ 0.16387222  0.99803665  0.96344912  0.99506     0.97673143]\n",
      "Learining Rate(MCE) :  0.0222222222222  , Thetas :  [ 0.26073162  0.99703394  0.94475808  0.99393478  0.96805191]\n",
      "Learining Rate(MAE) :  0.0333333333333  , Thetas :  [ 0.10927704  0.99871439  0.98267352  0.99500421  0.98188499]\n",
      "Learining Rate(MSE) :  0.0333333333333  , Thetas :  [ 0.13779479  0.99786385  0.95895059  0.99457188  0.97411533]\n",
      "Learining Rate(MCE) :  0.0333333333333  , Thetas :  [ 0.21812702  0.99671035  0.93896342  0.9933944   0.96492325]\n",
      "Learining Rate(MAE) :  0.0444444444444  , Thetas :  [ 0.10041771  0.99850537  0.97491485  0.99412749  0.97725161]\n",
      "Learining Rate(MSE) :  0.0444444444444  , Thetas :  [ 0.1184403   0.99771284  0.95493342  0.99414184  0.97179109]\n",
      "Learining Rate(MCE) :  0.0444444444444  , Thetas :  [ 0.18969959  0.99648106  0.93502608  0.99303822  0.96282608]\n",
      "Learining Rate(MAE) :  0.0555555555556  , Thetas :  [ 0.09106741  0.9981113   0.95965843  0.992459    0.96846356]\n",
      "Learining Rate(MSE) :  0.0555555555556  , Thetas :  [ 0.10589004  0.99760277  0.95196668  0.99382681  0.97007982]\n",
      "Learining Rate(MCE) :  0.0555555555556  , Thetas :  [ 0.16779508  0.99629849  0.93201731  0.99277336  0.96124309]\n",
      "Learining Rate(MAE) :  0.0666666666667  , Thetas :  [ 0.03585117  0.98547099  0.49520719  0.94280348  0.69975867]\n",
      "Learining Rate(MSE) :  0.0666666666667  , Thetas :  [ 0.09828034  0.99753287  0.95007341  0.99362638  0.968989  ]\n",
      "Learining Rate(MCE) :  0.0666666666667  , Thetas :  [ 0.14797327  0.99612865  0.92933406  0.99254384  0.95984939]\n",
      "Learining Rate(MAE) :  0.0777777777778  , Thetas :  [ 0.01618534  0.97827787  0.27814583  0.91602486  0.5622105 ]\n",
      "Learining Rate(MSE) :  0.0777777777778  , Thetas :  [ 0.08968371  0.99744349  0.94762567  0.99336903  0.96758232]\n",
      "Learining Rate(MCE) :  0.0777777777778  , Thetas :  [ 0.13065515  0.99597859  0.92707578  0.99235677  0.95869316]\n",
      "Learining Rate(MAE) :  0.0888888888889  , Thetas :  [ 0.01092218  0.97531513  0.20163356  0.9051259   0.5096584 ]\n",
      "Learining Rate(MSE) :  0.0888888888889  , Thetas :  [ 0.08195839  0.99735449  0.9451682   0.99311195  0.96617265]\n",
      "Learining Rate(MCE) :  0.0888888888889  , Thetas :  [ 0.11933961  0.99588507  0.92575448  0.99225098  0.95802747]\n",
      "Learining Rate(MAE) :  0.1  , Thetas :  [ 0.00726431  0.97323273  0.15354238  0.89756344  0.47455495]\n",
      "Learining Rate(MSE) :  0.1  , Thetas :  [ 0.07890994  0.9973246   0.94435229  0.99302597  0.9657034 ]\n",
      "Learining Rate(MCE) :  0.1  , Thetas :  [ 0.10619418  0.99577335  0.92423247  0.99213295  0.95727091]\n",
      "RMSE Mean Absolute Error Method :  0.07478588726810699\n",
      "RMSE Mean Squared Error Method :  0.2690695508433692\n",
      "RMSE Mean Cubed Error Method :  0.2828743834816575\n"
     ]
    },
    {
     "data": {
      "image/png": "[encoded data removed]",
      "text/plain": [
       "<matplotlib.figure.Figure at 0x7f37c5efba58>"
      ]
     },
     "metadata": {},
     "output_type": "display_data"
    }
   ],
   "source": [
    "if __name__ == '__main__':\n",
    "\n",
    "    alp = np.linspace(0,0.1,num=10)\n",
    "    rmse_mae = []\n",
    "    rmse_mse = []\n",
    "    rmse_mce = []\n",
    "    for alpha_ in alp:\n",
    "        \n",
    "        #Using Mean Absolute Error\n",
    "        theta = np.ones(n) # Initial value of thetas\n",
    "        theta = gradient_descent_mae(train_x,train_y,theta,alpha_)\n",
    "        rmse_mae.append(rmse(test_x,test_y,theta))\n",
    "        print(\"Learining Rate(MAE) : \",alpha_, \" , Thetas : \",theta)\n",
    "        \n",
    "        # Using Mean Squared Error in Orange\n",
    "        theta = np.ones(n) # Initial value of thetas\n",
    "        theta = gradient_descent_mse(train_x,train_y,theta,alpha_)\n",
    "        rmse_mse.append(rmse(test_x,test_y,theta))\n",
    "        print(\"Learining Rate(MSE) : \",alpha_, \" , Thetas : \",theta)\n",
    "        \n",
    "        # Using Mean Cubed Error in Blue\n",
    "        theta = np.ones(n) # Initial value of thetas\n",
    "        theta = gradient_descent_mce(train_x,train_y,theta,alpha_)\n",
    "        rmse_mce.append(rmse(test_x,test_y,theta))\n",
    "        print(\"Learining Rate(MCE) : \",alpha_, \" , Thetas : \",theta)\n",
    "    \n",
    "    print(\"RMSE Mean Absolute Error Method : \",rmse_mae[len(alp)-1])\n",
    "    print(\"RMSE Mean Squared Error Method : \",rmse_mse[len(alp)-1])\n",
    "    print(\"RMSE Mean Cubed Error Method : \",rmse_mce[len(alp)-1])\n",
    "    plt.plot(alp,rmse_mae)\n",
    "    plt.plot(alp,rmse_mse)\n",
    "    plt.plot(alp,rmse_mce)\n",
    "    plt.xlabel(\"Learning Parameter\")\n",
    "    plt.ylabel(\"RMSE\")\n"
   ]
  }
 ],
 "metadata": {
  "kernelspec": {
   "display_name": "Python 3",
   "language": "python",
   "name": "python3"
  },
  "language_info": {
   "codemirror_mode": {
    "name": "ipython",
    "version": 3
   },
   "file_extension": ".py",
   "mimetype": "text/x-python",
   "name": "python",
   "nbconvert_exporter": "python",
   "pygments_lexer": "ipython3",
   "version": "3.5.2"
  }
 },
 "nbformat": 4,
 "nbformat_minor": 2
}
