{
 "cells": [
  {
   "cell_type": "code",
   "execution_count": null,
   "metadata": {},
   "outputs": [],
   "source": [
    "import nltk\n",
    "print(\"Here\")\n",
    "nltk.download('punkt')\n",
    "print(\"Here\")\n",
    "from nltk.stem import *\n",
    "from nltk.tokenize import word_tokenize\n",
    "f = open(\"Assignment_2_data.txt\")\n",
    "print(\"Here\")\n",
    "with_stopwords = []\n",
    "for line in f.readlines():\n",
    "    with_stopwords.append(nltk.word_tokenize(line))\n",
    "print(\"Here\")"
   ]
  },
  {
   "cell_type": "code",
   "execution_count": null,
   "metadata": {},
   "outputs": [],
   "source": []
  }
 ],
 "metadata": {
  "kernelspec": {
   "display_name": "Python 3",
   "language": "python",
   "name": "python3"
  },
  "language_info": {
   "codemirror_mode": {
    "name": "ipython",
    "version": 3
   },
   "file_extension": ".py",
   "mimetype": "text/x-python",
   "name": "python",
   "nbconvert_exporter": "python",
   "pygments_lexer": "ipython3",
   "version": "3.5.2"
  }
 },
 "nbformat": 4,
 "nbformat_minor": 2
}
