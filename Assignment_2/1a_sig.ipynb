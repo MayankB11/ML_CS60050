{
 "cells": [
  {
   "cell_type": "code",
   "execution_count": 138,
   "metadata": {},
   "outputs": [
    {
     "name": "stdout",
     "output_type": "stream",
     "text": [
      "[nltk_data] Downloading package stopwords to /home/mayank/nltk_data...\n",
      "[nltk_data]   Package stopwords is already up-to-date!\n"
     ]
    }
   ],
   "source": [
    "import re\n",
    "import nltk\n",
    "import random\n",
    "import operator\n",
    "nltk.download('stopwords')\n",
    "import numpy as np\n",
    "from collections import OrderedDict\n",
    "from nltk.stem.porter import *\n",
    "from nltk.corpus import stopwords\n",
    "from nltk.tokenize import word_tokenize"
   ]
  },
  {
   "cell_type": "code",
   "execution_count": 139,
   "metadata": {},
   "outputs": [],
   "source": [
    "stemmer = PorterStemmer()\n",
    "stop_words = set(stopwords.words('english'))\n",
    "f = open(\"Assignment_2_data.txt\")\n",
    "with_stopwords = []\n",
    "total_output = []\n",
    "token_counts = OrderedDict()\n",
    "token_countsDict = dict()\n",
    "ind_list = None\n",
    "lines = f.readlines()\n",
    "random.shuffle(lines) # shuffling for random 80% train data and 20% test data\n",
    "total_input = []\n",
    "lamda = 0.1 #learning rate\n",
    "epoch = 15\n",
    "x_axis = []\n",
    "y_axis =[]\n",
    "test_y_axis =[]"
   ]
  },
  {
   "cell_type": "code",
   "execution_count": 140,
   "metadata": {},
   "outputs": [
    {
     "name": "stdout",
     "output_type": "stream",
     "text": [
      "0\n",
      "2000\n"
     ]
    }
   ],
   "source": [
    "for line in lines:\n",
    "    line = line.strip()\n",
    "    tokens = re.findall(r\"[\\w']+\",line)\n",
    "    if(line[0:3]=='ham'):\n",
    "        line = line[3:]\n",
    "        total_output.append(0)\n",
    "        total_input.append(tokens)\n",
    "    elif(line[0:4]=='spam'):\n",
    "        line = line[4:]\n",
    "        total_output.append(1.0)\n",
    "        total_input.append(tokens)\n",
    "    with_stopwords.append(tokens)\n",
    "    tokens = [stemmer.stem(token) for token in tokens]\n",
    "    for token in tokens:\n",
    "        token_counts[token] = token_counts.get(token, 0) + 1\n",
    "        token_countsDict[token] = token_countsDict.get(token, 0) + 1\n",
    "no_distinct_tokens = len(token_counts)\n",
    "ind_list = dict()\n",
    "count = 0\n",
    "v = no_distinct_tokens\n",
    "print(len(ind_list))\n",
    "\n",
    "for key, value in sorted(token_countsDict.items(), key=operator.itemgetter(1),reverse=True):\n",
    "    ind_list[key] = count\n",
    "    count+=1\n",
    "    if count == 2000:\n",
    "        break\n",
    "v = len(ind_list)\n",
    "print (v)"
   ]
  },
  {
   "cell_type": "code",
   "execution_count": 141,
   "metadata": {},
   "outputs": [],
   "source": [
    "def sigmoid(x):\n",
    "    return 1/(1+np.exp(-x))"
   ]
  },
  {
   "cell_type": "code",
   "execution_count": 142,
   "metadata": {},
   "outputs": [],
   "source": [
    "def toVec(tokens):\n",
    "    global token_countsDict,ind_list\n",
    "    v_one = np.zeros(v)\n",
    "    for token in tokens:\n",
    "        if (ind_list.get(token,0)!=0):\n",
    "            v_one[ind_list[token]]=1\n",
    "    return v_one"
   ]
  },
  {
   "cell_type": "code",
   "execution_count": 143,
   "metadata": {},
   "outputs": [],
   "source": [
    "def vectorize(total_input):\n",
    "    for i in range(len(total_input)):\n",
    "        total_input[i] = toVec(total_input[i])\n",
    "        total_input[i].shape = (len(total_input[i]),1)"
   ]
  },
  {
   "cell_type": "code",
   "execution_count": 144,
   "metadata": {},
   "outputs": [],
   "source": [
    "w1 = (np.random.rand(100,v)-0.5)*10\n",
    "b1 = (np.random.rand(100,1)-0.5)*10\n",
    "w2 = (np.random.rand(50,100)-0.5)*10\n",
    "b2 = (np.random.rand(50,1)-0.5)*10\n",
    "w3 = (np.random.rand(1,50)-0.5)*10\n",
    "b3 = (np.random.rand(1,1)-0.5)*10"
   ]
  },
  {
   "cell_type": "code",
   "execution_count": 145,
   "metadata": {},
   "outputs": [],
   "source": [
    "vectorize(total_input)\n",
    "train_x = total_input[:int(0.8*len(total_input))]\n",
    "train_y = total_output[:int(0.8*len(total_input))]\n",
    "test_x = total_input[int(0.8*len(total_input)):]\n",
    "test_y = total_output[int(0.8*len(total_input)):]"
   ]
  },
  {
   "cell_type": "code",
   "execution_count": null,
   "metadata": {},
   "outputs": [],
   "source": []
  },
  {
   "cell_type": "code",
   "execution_count": 146,
   "metadata": {},
   "outputs": [],
   "source": [
    "def feedForward(x):\n",
    "    global w1,b1,w2,b2,w3,b3\n",
    "    t1 = (w1.dot(x))+b1\n",
    "    x1 = sigmoid(t1)\n",
    "    t2 = (w2.dot(x1))+b2\n",
    "    x2 = sigmoid(t2)\n",
    "    t3 = (w3.dot(x2))+b3\n",
    "    x3 = sigmoid(t3)\n",
    "    \n",
    "    return t1,x1,t2,x2,t3,x3"
   ]
  },
  {
   "cell_type": "code",
   "execution_count": 147,
   "metadata": {},
   "outputs": [],
   "source": [
    "def error_func(train_x,train_y):\n",
    "    global w1,b1,w2,b2,w3,b3\n",
    "    error = 0.0\n",
    "    for i in range(len(train_x)):\n",
    "        t1,x1,t2,x2,t3,x3 = feedForward(train_x[i])\n",
    "        error = error + (train_y[i]- x3)**2\n",
    "    return error"
   ]
  },
  {
   "cell_type": "code",
   "execution_count": 148,
   "metadata": {},
   "outputs": [],
   "source": [
    "def backpropogate(y,t1,x1,t2,x2,t3,x3,v):\n",
    "    global lamda,w1,b1,w2,b2,w3,b3\n",
    "    dx3 = x3-y\n",
    "    dt3 = dx3 * (1 - (np.tanh(t3) ** 2))\n",
    "\n",
    "    # print(\"del : \", np.sum(dt3**2))\n",
    "\n",
    "    #print(\"b3 :\",b3)\n",
    "    b3 -= (lamda * dt3)\n",
    "    #print(\"b3 :\",b3)\n",
    "    dw3 = np.outer(dt3, x2)\n",
    "    #print(\"w3 :\",w3)\n",
    "    w3 -= (lamda * dw3)\n",
    "    #print(\"w3 :\",w3)\n",
    "    dx2 = np.transpose(w3).dot(dt3)\n",
    "\n",
    "    dt2 = dx2 * (1 - (np.tanh(t2) ** 2))\n",
    "    b2 -= (lamda * dt2)\n",
    "    dw2 = np.outer(dt2, x1)\n",
    "\n",
    "    w2 -= (lamda * dw2)\n",
    "    dx1 = np.transpose(w2).dot(dt2)\n",
    "    \n",
    "    dt1 = dx1 * (1 - (np.tanh(t1) ** 2))\n",
    "    b1 -= (lamda * dt1)\n",
    "    dw1 = np.outer(dt1, v)\n",
    "    w1 -= (lamda * dw1)"
   ]
  },
  {
   "cell_type": "code",
   "execution_count": 149,
   "metadata": {},
   "outputs": [],
   "source": [
    " def accuracy(test_x,test_y):\n",
    "    global w1,b1,w2,b2,w3,b3\n",
    "    #print(w1,b1,w2,b2,w3,b3)\n",
    "    correct = 0\n",
    "    for i in range(len(test_x)):\n",
    "        t1,x1,t2,x2,t3,x3 = feedForward(test_x[i])\n",
    "        #print(\"~ \", x3)\n",
    "        if abs(x3-test_y[i]) < 0.5:\n",
    "            correct +=1\n",
    "    print(\"Accuracy : \",correct/len(test_x))"
   ]
  },
  {
   "cell_type": "code",
   "execution_count": 150,
   "metadata": {},
   "outputs": [
    {
     "name": "stdout",
     "output_type": "stream",
     "text": [
      "Accuracy :  0.8726457399103139\n",
      "Accuracy :  0.9246636771300448\n",
      "Accuracy :  0.9766816143497757\n",
      "Accuracy :  0.9811659192825112\n",
      "Accuracy :  0.9739910313901345\n",
      "Accuracy :  0.9838565022421525\n",
      "Accuracy :  0.9937219730941704\n",
      "Accuracy :  0.9928251121076234\n",
      "Accuracy :  0.9937219730941704\n",
      "Accuracy :  0.9928251121076234\n",
      "Accuracy :  0.9937219730941704\n",
      "Accuracy :  0.9937219730941704\n",
      "Accuracy :  0.9937219730941704\n",
      "Accuracy :  0.9937219730941704\n",
      "Accuracy :  0.9928251121076234\n"
     ]
    }
   ],
   "source": [
    "count = 0\n",
    "for _ in range(epoch):\n",
    "    for i in range(len(train_x)):   \n",
    "        t1,x1,t2,x2,t3,x3 = feedForward(train_x[i])\n",
    "        backpropogate(train_y[i],t1,x1,t2,x2,t3,x3,train_x[i])\n",
    "        if(i%100 == 0):\n",
    "            x_axis.append(count)\n",
    "            count +=1\n",
    "            temp = error_func(train_x,train_y)\n",
    "            y_axis.append(temp[0][0])\n",
    "            temp = error_func(test_x,test_y)\n",
    "            test_y_axis.append(temp[0][0])\n",
    "    accuracy(test_x,test_y)\n"
   ]
  },
  {
   "cell_type": "code",
   "execution_count": 151,
   "metadata": {},
   "outputs": [
    {
     "data": {
      "text/plain": [
       "[<matplotlib.lines.Line2D at 0x7f64feae7898>]"
      ]
     },
     "execution_count": 151,
     "metadata": {},
     "output_type": "execute_result"
    },
    {
     "data": {
      "image/png": "[encoded data removed]",
      "text/plain": [
       "<matplotlib.figure.Figure at 0x7f64feae72e8>"
      ]
     },
     "metadata": {},
     "output_type": "display_data"
    }
   ],
   "source": [
    "import matplotlib.pyplot as plt\n",
    "plt.plot(x_axis,y_axis, label = \"Train\")\n",
    "plt.plot(x_axis,test_y_axis,label = \"Test\")"
   ]
  },
  {
   "cell_type": "code",
   "execution_count": null,
   "metadata": {},
   "outputs": [],
   "source": []
  },
  {
   "cell_type": "code",
   "execution_count": null,
   "metadata": {},
   "outputs": [],
   "source": []
  }
 ],
 "metadata": {
  "kernelspec": {
   "display_name": "Python 3",
   "language": "python",
   "name": "python3"
  },
  "language_info": {
   "codemirror_mode": {
    "name": "ipython",
    "version": 3
   },
   "file_extension": ".py",
   "mimetype": "text/x-python",
   "name": "python",
   "nbconvert_exporter": "python",
   "pygments_lexer": "ipython3",
   "version": "3.5.2"
  }
 },
 "nbformat": 4,
 "nbformat_minor": 2
}
