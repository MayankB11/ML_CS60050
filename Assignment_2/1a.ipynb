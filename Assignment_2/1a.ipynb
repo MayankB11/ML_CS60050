{
 "cells": [
  {
   "cell_type": "code",
   "execution_count": null,
   "metadata": {},
   "outputs": [],
   "source": [
    "import re\n",
    "import nltk\n",
    "nltk.download('stopwords')\n",
    "from nltk.stem.porter import *\n",
    "from nltk.corpus import stopwords\n",
    "from nltk.tokenize import word_tokenize"
   ]
  },
  {
   "cell_type": "code",
   "execution_count": 23,
   "metadata": {},
   "outputs": [
    {
     "name": "stdout",
     "output_type": "stream",
     "text": [
      "[nltk_data] Downloading package stopwords to /home/mayank/nltk_data...\n",
      "[nltk_data]   Package stopwords is already up-to-date!\n",
      "7746\n"
     ]
    }
   ],
   "source": [
    "stemmer = PorterStemmer()\n",
    "stop_words = set(stopwords.words('english'))\n",
    "f = open(\"Assignment_2_data.txt\")\n",
    "with_stopwords = []\n",
    "output = []\n",
    "token_counts = dict()\n",
    "for line in f.readlines():\n",
    "    line = line.strip()\n",
    "    if(line[0:3]=='ham'):\n",
    "        line = line[3:]\n",
    "        output.append('ham')\n",
    "    elif(line[0:4]=='spam'):\n",
    "        line = line[4:]\n",
    "        output.append('spam')\n",
    "    tokens = re.findall(r\"[\\w']+\",line)\n",
    "    with_stopwords.append(tokens)\n",
    "    tokens = [stemmer.stem(token) for token in tokens]\n",
    "    for token in tokens:\n",
    "        token_counts[token] = token_counts.get(token, 0) + 1\n",
    "no_distinct_tokens = len(token_counts)\n",
    "print (token_counts)"
   ]
  },
  {
   "cell_type": "code",
   "execution_count": null,
   "metadata": {},
   "outputs": [],
   "source": [
    "i = 0\n",
    "tokens_used = []\n",
    "\n",
    "for key, value in sorted(token_counts.items(), key=lambda kv: (kv[1], kv[0])):\n",
    "    i = i + 1\n",
    "    # if i > 8000:\n",
    "    # \tbreak\n",
    "    tokens_used.append(key)\n",
    "print(len(tokens_used))"
   ]
  },
  {
   "cell_type": "code",
   "execution_count": 24,
   "metadata": {},
   "outputs": [
    {
     "name": "stdout",
     "output_type": "stream",
     "text": [
      "7746\n"
     ]
    }
   ],
   "source": []
  }
 ],
 "metadata": {
  "kernelspec": {
   "display_name": "Python 3",
   "language": "python",
   "name": "python3"
  },
  "language_info": {
   "codemirror_mode": {
    "name": "ipython",
    "version": 3
   },
   "file_extension": ".py",
   "mimetype": "text/x-python",
   "name": "python",
   "nbconvert_exporter": "python",
   "pygments_lexer": "ipython3",
   "version": "3.5.2"
  }
 },
 "nbformat": 4,
 "nbformat_minor": 2
}
